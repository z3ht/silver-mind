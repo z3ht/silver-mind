{
 "cells": [
  {
   "cell_type": "code",
   "execution_count": 1,
   "metadata": {},
   "outputs": [],
   "source": [
    "from tensorflow.compat.v1 import ConfigProto\n",
    "from tensorflow.compat.v1 import InteractiveSession\n",
    "import tensorflow as tf\n",
    "\n",
    "config = ConfigProto()\n",
    "config.gpu_options.allow_growth = True\n",
    "session = InteractiveSession(config=config)\n",
    "\n",
    "tf.compat.v1.disable_eager_execution()"
   ]
  },
  {
   "cell_type": "code",
   "execution_count": 2,
   "metadata": {},
   "outputs": [],
   "source": [
    "import sys\n",
    "import chess\n",
    "from IPython.display import clear_output\n",
    "\n",
    "sys.path.append(\"..\")\n",
    "\n",
    "from silvermind import states, nnets"
   ]
  },
  {
   "cell_type": "code",
   "execution_count": 3,
   "metadata": {},
   "outputs": [],
   "source": [
    "valuator = nnets.ChessNet()\n",
    "valuator.load(\"../models/tiny_tc.tf\")"
   ]
  },
  {
   "cell_type": "code",
   "execution_count": null,
   "metadata": {},
   "outputs": [
    {
     "name": "stdout",
     "output_type": "stream",
     "text": [
      "r . b q k . n r\n",
      "p . p p b . . p\n",
      ". p n . . . . .\n",
      ". P . . p p p .\n",
      ". . P . P . . .\n",
      "B . . B . . P .\n",
      "P . . P . P . P\n",
      "R N . Q K . N R\n",
      "b8c6\n",
      "\n"
     ]
    }
   ],
   "source": [
    "board = chess.Board()\n",
    "while not board.is_game_over():\n",
    "    ideal_move = 1 if board.turn == chess.WHITE else -1\n",
    "    best_move_score = -1\n",
    "    best_move = None\n",
    "    for move in board.legal_moves:\n",
    "        board.push(move)\n",
    "        pos_move_score = abs(ideal_move - states.BoardState(board).value(valuator))\n",
    "        if best_move_score < pos_move_score:\n",
    "            best_move_score = pos_move_score\n",
    "            best_move = move\n",
    "        board.pop()\n",
    "\n",
    "    clear_output()\n",
    "    board.push(best_move)\n",
    "    print(board)\n",
    "    print(best_move)\n",
    "    print()\n",
    "    input()\n",
    "    "
   ]
  },
  {
   "cell_type": "code",
   "execution_count": null,
   "metadata": {},
   "outputs": [],
   "source": []
  }
 ],
 "metadata": {
  "kernelspec": {
   "display_name": "Python 3",
   "language": "python",
   "name": "python3"
  },
  "language_info": {
   "codemirror_mode": {
    "name": "ipython",
    "version": 3
   },
   "file_extension": ".py",
   "mimetype": "text/x-python",
   "name": "python",
   "nbconvert_exporter": "python",
   "pygments_lexer": "ipython3",
   "version": "3.9.1"
  }
 },
 "nbformat": 4,
 "nbformat_minor": 1
}