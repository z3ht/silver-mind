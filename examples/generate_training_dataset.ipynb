{
 "cells": [
  {
   "cell_type": "code",
   "execution_count": 1,
   "metadata": {
    "pycharm": {
     "name": "#%%\n"
    }
   },
   "outputs": [],
   "source": [
    "import chess\n",
    "import chess.pgn\n",
    "import os\n",
    "import sys\n",
    "import numpy as np\n",
    "\n",
    "sys.path.append(\"..\")\n",
    "\n",
    "from silvermind import states"
   ]
  },
  {
   "cell_type": "code",
   "execution_count": 2,
   "metadata": {},
   "outputs": [],
   "source": [
    "num_cpu_cores = os.environ[\"NUM_CPU_CORES\"]\n",
    "if num_cpu_cores is None or num_cpu_cores == \"\":\n",
    "    num_cpu_cores = input(\"NUM_CPU_CORES\")\n",
    "num_cpu_cores = int(num_cpu_cores) - 4"
   ]
  },
  {
   "cell_type": "code",
   "execution_count": 3,
   "metadata": {
    "scrolled": true
   },
   "outputs": [],
   "source": [
    "def make_dataset(location=\"../pgns\", verbose=False, max_games_per_batch=sys.maxsize):\n",
    "    \n",
    "    def worker_make_dataset(return_dict, file_name, max_games=sys.maxsize):\n",
    "        \n",
    "        games = []\n",
    "        with open(file_name) as pgn:\n",
    "            while (game := chess.pgn.read_game(pgn)) is not None:\n",
    "                if len(games) >= max_games:\n",
    "                    break\n",
    "                games.append(game)\n",
    "        \n",
    "        X = []\n",
    "        y = []\n",
    "        for i, game in enumerate(games):\n",
    "            result = {\"1-0\":1, \"0-1\":0, \"1/2-1/2\":None, \"*\":None}[game.headers[\"Result\"]]\n",
    "            if result is None:\n",
    "                continue\n",
    "            board = game.board()\n",
    "            X.append(states.BoardState(board).serialize())\n",
    "            y.append(result)\n",
    "            for move in game.mainline_moves():\n",
    "                board.push(move)\n",
    "                X.append(states.BoardState(board).serialize())\n",
    "                y.append(result)\n",
    "            if verbose and i % (max(1, max_games // 5)) == 0:\n",
    "                print(f\"batch {round(i/max_games, 3)*100}% complete\")\n",
    "        \n",
    "        return_dict[file_name] = (X, y)\n",
    "    \n",
    "    import multiprocessing\n",
    "    \n",
    "    manager = multiprocessing.Manager()\n",
    "    return_dict = manager.dict()\n",
    "    workers = []\n",
    "    \n",
    "    file_names = [f\"{location}/{file_title}\" for file_title in os.listdir(location) if file_title.endswith(\".pgn\")]\n",
    "    \n",
    "    if verbose:\n",
    "        print(\"Creating workers\")\n",
    "    for file_name in file_names:\n",
    "        worker = multiprocessing.Process(\n",
    "            target=worker_make_dataset,\n",
    "            args=(return_dict, file_name, max_games_per_batch)\n",
    "        )\n",
    "        workers.append(worker)\n",
    "    \n",
    "    if verbose:\n",
    "        print(\"Activating workers\")\n",
    "    num_workers_executed = 0\n",
    "    while(num_workers_executed < len(workers)):\n",
    "        workers_to_execute = min(num_cpu_cores, len(workers) - num_workers_executed)\n",
    "        for i in range(workers_to_execute):\n",
    "            workers[num_workers_executed + i].start()\n",
    "        for i in range(workers_to_execute):\n",
    "            workers[num_workers_executed + i].join()\n",
    "        \n",
    "        num_workers_executed += workers_to_execute\n",
    "        \n",
    "        if verbose:\n",
    "            print(f\"Dataset creation {round(min(1, num_workers_executed/len(workers)), 3) * 100}% complete...\")\n",
    "    \n",
    "    y = []\n",
    "    X = []\n",
    "    for file_name in file_names:\n",
    "        if file_name not in return_dict:\n",
    "            continue\n",
    "        res_X, res_y = return_dict[file_name]\n",
    "        X.extend(res_X)\n",
    "        y.extend(res_y)\n",
    "    X = np.array(X)\n",
    "    y = np.array(y)\n",
    "    \n",
    "    return X, y\n",
    "\n",
    "X, y = make_dataset(max_games_per_batch=100, verbose=False)\n",
    "\n",
    "if not os.path.isdir(\"../dataset\"):\n",
    "    os.mkdir(\"../dataset\")\n",
    "\n",
    "np.savez(\"../dataset/tiny_game_data.npz\", X, y)"
   ]
  },
  {
   "cell_type": "code",
   "execution_count": null,
   "metadata": {},
   "outputs": [],
   "source": []
  }
 ],
 "metadata": {
  "kernelspec": {
   "display_name": "Python 3",
   "language": "python",
   "name": "python3"
  },
  "language_info": {
   "codemirror_mode": {
    "name": "ipython",
    "version": 3
   },
   "file_extension": ".py",
   "mimetype": "text/x-python",
   "name": "python",
   "nbconvert_exporter": "python",
   "pygments_lexer": "ipython3",
   "version": "3.9.1"
  }
 },
 "nbformat": 4,
 "nbformat_minor": 1
}
