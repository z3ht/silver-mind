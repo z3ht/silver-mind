{
 "cells": [
  {
   "cell_type": "code",
   "execution_count": 1,
   "metadata": {},
   "outputs": [],
   "source": [
    "from tensorflow.compat.v1 import ConfigProto\n",
    "from tensorflow.compat.v1 import InteractiveSession\n",
    "import tensorflow as tf\n",
    "\n",
    "config = ConfigProto()\n",
    "config.gpu_options.allow_growth = True\n",
    "session = InteractiveSession(config=config)\n",
    "\n",
    "tf.compat.v1.disable_eager_execution()"
   ]
  },
  {
   "cell_type": "code",
   "execution_count": 2,
   "metadata": {},
   "outputs": [],
   "source": [
    "import sys\n",
    "import numpy as np\n",
    "\n",
    "sys.path.append(\"..\")\n",
    "\n",
    "from silvermind import nnets\n",
    "from silvermind import states"
   ]
  },
  {
   "cell_type": "code",
   "execution_count": 3,
   "metadata": {},
   "outputs": [
    {
     "name": "stdout",
     "output_type": "stream",
     "text": [
      "(549211, 5, 8, 8) (549211,)\n"
     ]
    }
   ],
   "source": [
    "npz = np.load(\"../dataset/tiny_game_data.npz\")\n",
    "X = npz[\"arr_0\"]\n",
    "y = npz[\"arr_1\"]\n",
    "\n",
    "print(X.shape, y.shape)"
   ]
  },
  {
   "cell_type": "code",
   "execution_count": 4,
   "metadata": {},
   "outputs": [
    {
     "name": "stdout",
     "output_type": "stream",
     "text": [
      "Model: \"sequential\"\n",
      "_________________________________________________________________\n",
      "Layer (type)                 Output Shape              Param #   \n",
      "=================================================================\n",
      "conv2d (Conv2D)              (None, 16, 8, 8)          736       \n",
      "_________________________________________________________________\n",
      "conv2d_1 (Conv2D)            (None, 16, 8, 8)          2320      \n",
      "_________________________________________________________________\n",
      "conv2d_2 (Conv2D)            (None, 16, 4, 4)          2320      \n",
      "_________________________________________________________________\n",
      "conv2d_3 (Conv2D)            (None, 32, 4, 4)          4640      \n",
      "_________________________________________________________________\n",
      "conv2d_4 (Conv2D)            (None, 32, 4, 4)          9248      \n",
      "_________________________________________________________________\n",
      "conv2d_5 (Conv2D)            (None, 32, 2, 2)          9248      \n",
      "_________________________________________________________________\n",
      "conv2d_6 (Conv2D)            (None, 64, 2, 2)          8256      \n",
      "_________________________________________________________________\n",
      "conv2d_7 (Conv2D)            (None, 64, 2, 2)          16448     \n",
      "_________________________________________________________________\n",
      "conv2d_8 (Conv2D)            (None, 64, 1, 1)          16448     \n",
      "_________________________________________________________________\n",
      "conv2d_9 (Conv2D)            (None, 128, 1, 1)         8320      \n",
      "_________________________________________________________________\n",
      "conv2d_10 (Conv2D)           (None, 128, 1, 1)         16512     \n",
      "_________________________________________________________________\n",
      "conv2d_11 (Conv2D)           (None, 128, 1, 1)         16512     \n",
      "_________________________________________________________________\n",
      "flatten (Flatten)            (None, 128)               0         \n",
      "_________________________________________________________________\n",
      "dense (Dense)                (None, 128)               16512     \n",
      "_________________________________________________________________\n",
      "dense_1 (Dense)              (None, 1)                 129       \n",
      "=================================================================\n",
      "Total params: 127,649\n",
      "Trainable params: 127,649\n",
      "Non-trainable params: 0\n",
      "_________________________________________________________________\n",
      "Train on 439368 samples, validate on 109843 samples\n",
      "Epoch 1/20\n",
      "439368/439368 [==============================] - ETA: 0s - loss: 0.6788 - acc: 0.5565"
     ]
    },
    {
     "name": "stderr",
     "output_type": "stream",
     "text": [
      "/usr/lib/python3.9/site-packages/tensorflow/python/keras/engine/training.py:2325: UserWarning: `Model.state_updates` will be removed in a future version. This property should not be used in TensorFlow 2.0, as `updates` are applied automatically.\n",
      "  warnings.warn('`Model.state_updates` will be removed in a future version. '\n"
     ]
    },
    {
     "name": "stdout",
     "output_type": "stream",
     "text": [
      "439368/439368 [==============================] - 8s 19us/sample - loss: 0.6788 - acc: 0.5565 - val_loss: 0.6777 - val_acc: 0.5669\n",
      "Epoch 2/20\n",
      "439368/439368 [==============================] - 5s 12us/sample - loss: 0.6387 - acc: 0.6178 - val_loss: 0.6944 - val_acc: 0.5598\n",
      "Epoch 3/20\n",
      "439368/439368 [==============================] - 6s 13us/sample - loss: 0.6012 - acc: 0.6526 - val_loss: 0.7421 - val_acc: 0.5561\n",
      "Epoch 4/20\n",
      "439368/439368 [==============================] - 5s 12us/sample - loss: 0.5669 - acc: 0.6804 - val_loss: 0.7434 - val_acc: 0.5592\n",
      "Epoch 5/20\n",
      "439368/439368 [==============================] - 5s 12us/sample - loss: 0.5372 - acc: 0.7024 - val_loss: 0.8541 - val_acc: 0.5549\n",
      "Epoch 6/20\n",
      "439368/439368 [==============================] - 6s 13us/sample - loss: 0.5098 - acc: 0.7208 - val_loss: 0.8561 - val_acc: 0.5577\n",
      "Epoch 7/20\n",
      "439368/439368 [==============================] - 6s 13us/sample - loss: 0.4873 - acc: 0.7363 - val_loss: 0.8494 - val_acc: 0.5491\n",
      "Epoch 8/20\n",
      "439368/439368 [==============================] - 5s 12us/sample - loss: 0.4684 - acc: 0.7470 - val_loss: 0.8793 - val_acc: 0.5463\n",
      "Epoch 9/20\n",
      "439368/439368 [==============================] - 5s 12us/sample - loss: 0.4540 - acc: 0.7561 - val_loss: 0.9888 - val_acc: 0.5491\n",
      "Epoch 10/20\n",
      "439368/439368 [==============================] - 5s 12us/sample - loss: 0.4396 - acc: 0.7650 - val_loss: 0.9390 - val_acc: 0.5502\n",
      "Epoch 11/20\n",
      "439368/439368 [==============================] - 5s 12us/sample - loss: 0.4279 - acc: 0.7719 - val_loss: 1.0144 - val_acc: 0.5488\n",
      "Epoch 12/20\n",
      "439368/439368 [==============================] - 5s 12us/sample - loss: 0.4167 - acc: 0.7779 - val_loss: 1.0192 - val_acc: 0.5531\n",
      "Epoch 13/20\n",
      "439368/439368 [==============================] - 5s 12us/sample - loss: 0.4064 - acc: 0.7838 - val_loss: 1.1090 - val_acc: 0.5480\n",
      "Epoch 14/20\n",
      "439368/439368 [==============================] - 6s 13us/sample - loss: 0.3993 - acc: 0.7885 - val_loss: 1.1071 - val_acc: 0.5516\n",
      "Epoch 15/20\n",
      "439368/439368 [==============================] - 6s 13us/sample - loss: 0.3920 - acc: 0.7929 - val_loss: 1.2174 - val_acc: 0.5507\n",
      "Epoch 16/20\n",
      "439368/439368 [==============================] - 6s 13us/sample - loss: 0.3836 - acc: 0.7970 - val_loss: 1.0927 - val_acc: 0.5492\n",
      "Epoch 17/20\n",
      "439368/439368 [==============================] - 5s 12us/sample - loss: 0.3770 - acc: 0.8006 - val_loss: 1.1116 - val_acc: 0.5482\n",
      "Epoch 18/20\n",
      "439368/439368 [==============================] - 5s 12us/sample - loss: 0.3711 - acc: 0.8040 - val_loss: 1.2341 - val_acc: 0.5487\n",
      "Epoch 19/20\n",
      "439368/439368 [==============================] - 5s 12us/sample - loss: 0.3675 - acc: 0.8061 - val_loss: 1.1575 - val_acc: 0.5431\n",
      "Epoch 20/20\n",
      "439368/439368 [==============================] - 6s 13us/sample - loss: 0.3599 - acc: 0.8107 - val_loss: 1.2051 - val_acc: 0.5502\n"
     ]
    },
    {
     "data": {
      "text/plain": [
       "<tensorflow.python.keras.callbacks.History at 0x7fa964416250>"
      ]
     },
     "execution_count": 4,
     "metadata": {},
     "output_type": "execute_result"
    }
   ],
   "source": [
    "chess_cnn = nnets.ChessCNN()\n",
    "chess_cnn.train(X, y)"
   ]
  },
  {
   "cell_type": "code",
   "execution_count": 5,
   "metadata": {},
   "outputs": [
    {
     "name": "stdout",
     "output_type": "stream",
     "text": [
      "INFO:tensorflow:Assets written to: ../models/tiny_tc.tf/assets\n"
     ]
    }
   ],
   "source": [
    "chess_cnn.save(\"../models/tiny_tc.tf\")"
   ]
  },
  {
   "cell_type": "code",
   "execution_count": null,
   "metadata": {},
   "outputs": [],
   "source": []
  }
 ],
 "metadata": {
  "kernelspec": {
   "display_name": "Python 3",
   "language": "python",
   "name": "python3"
  },
  "language_info": {
   "codemirror_mode": {
    "name": "ipython",
    "version": 3
   },
   "file_extension": ".py",
   "mimetype": "text/x-python",
   "name": "python",
   "nbconvert_exporter": "python",
   "pygments_lexer": "ipython3",
   "version": "3.9.1"
  }
 },
 "nbformat": 4,
 "nbformat_minor": 4
}
