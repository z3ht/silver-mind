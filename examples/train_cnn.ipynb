{
 "cells": [
  {
   "cell_type": "code",
   "execution_count": 2,
   "metadata": {},
   "outputs": [
    {
     "name": "stderr",
     "output_type": "stream",
     "text": [
      "/usr/lib/python3.9/site-packages/tensorflow/python/client/session.py:1761: UserWarning: An interactive session is already active. This can cause out-of-memory errors in some cases. You must explicitly call `InteractiveSession.close()` to release resources held by the other session(s).\n",
      "  warnings.warn('An interactive session is already active. This can '\n"
     ]
    }
   ],
   "source": [
    "from tensorflow.compat.v1 import ConfigProto\n",
    "from tensorflow.compat.v1 import InteractiveSession\n",
    "import tensorflow as tf\n",
    "\n",
    "config = ConfigProto()\n",
    "config.gpu_options.allow_growth = True\n",
    "session = InteractiveSession(config=config)\n",
    "\n",
    "tf.compat.v1.disable_eager_execution()"
   ]
  },
  {
   "cell_type": "code",
   "execution_count": 3,
   "metadata": {},
   "outputs": [],
   "source": [
    "import sys\n",
    "import numpy as np\n",
    "\n",
    "sys.path.append(\"..\")\n",
    "\n",
    "from silvermind import nnets\n",
    "from silvermind import states"
   ]
  },
  {
   "cell_type": "code",
   "execution_count": 4,
   "metadata": {},
   "outputs": [
    {
     "name": "stdout",
     "output_type": "stream",
     "text": [
      "(614927, 5, 8, 8) (614927,)\n"
     ]
    }
   ],
   "source": [
    "npz = np.load(\"../dataset/tiny_game_data.npz\")\n",
    "X = npz[\"arr_0\"]\n",
    "y = npz[\"arr_1\"]\n",
    "\n",
    "print(X.shape, y.shape)"
   ]
  },
  {
   "cell_type": "code",
   "execution_count": 5,
   "metadata": {},
   "outputs": [
    {
     "name": "stdout",
     "output_type": "stream",
     "text": [
      "Model: \"sequential\"\n",
      "_________________________________________________________________\n",
      "Layer (type)                 Output Shape              Param #   \n",
      "=================================================================\n",
      "conv2d (Conv2D)              (None, 16, 8, 8)          736       \n",
      "_________________________________________________________________\n",
      "conv2d_1 (Conv2D)            (None, 16, 8, 8)          2320      \n",
      "_________________________________________________________________\n",
      "conv2d_2 (Conv2D)            (None, 16, 4, 4)          2320      \n",
      "_________________________________________________________________\n",
      "conv2d_3 (Conv2D)            (None, 32, 4, 4)          4640      \n",
      "_________________________________________________________________\n",
      "conv2d_4 (Conv2D)            (None, 32, 4, 4)          9248      \n",
      "_________________________________________________________________\n",
      "conv2d_5 (Conv2D)            (None, 32, 2, 2)          9248      \n",
      "_________________________________________________________________\n",
      "conv2d_6 (Conv2D)            (None, 64, 2, 2)          8256      \n",
      "_________________________________________________________________\n",
      "conv2d_7 (Conv2D)            (None, 64, 2, 2)          16448     \n",
      "_________________________________________________________________\n",
      "conv2d_8 (Conv2D)            (None, 64, 1, 1)          16448     \n",
      "_________________________________________________________________\n",
      "conv2d_9 (Conv2D)            (None, 128, 1, 1)         8320      \n",
      "_________________________________________________________________\n",
      "conv2d_10 (Conv2D)           (None, 128, 1, 1)         16512     \n",
      "_________________________________________________________________\n",
      "conv2d_11 (Conv2D)           (None, 128, 1, 1)         16512     \n",
      "_________________________________________________________________\n",
      "flatten (Flatten)            (None, 128)               0         \n",
      "_________________________________________________________________\n",
      "dense (Dense)                (None, 128)               16512     \n",
      "_________________________________________________________________\n",
      "dense_1 (Dense)              (None, 1)                 129       \n",
      "=================================================================\n",
      "Total params: 127,649\n",
      "Trainable params: 127,649\n",
      "Non-trainable params: 0\n",
      "_________________________________________________________________\n",
      "Train on 491941 samples, validate on 122986 samples\n",
      "Epoch 1/100\n",
      "491941/491941 [==============================] - ETA: 0s - loss: 0.6803 - acc: 0.5085"
     ]
    },
    {
     "name": "stderr",
     "output_type": "stream",
     "text": [
      "/usr/lib/python3.9/site-packages/tensorflow/python/keras/engine/training.py:2325: UserWarning: `Model.state_updates` will be removed in a future version. This property should not be used in TensorFlow 2.0, as `updates` are applied automatically.\n",
      "  warnings.warn('`Model.state_updates` will be removed in a future version. '\n"
     ]
    },
    {
     "name": "stdout",
     "output_type": "stream",
     "text": [
      "491941/491941 [==============================] - 29s 60us/sample - loss: 0.6803 - acc: 0.5085 - val_loss: 0.6833 - val_acc: 0.5042\n",
      "Epoch 2/100\n",
      "491941/491941 [==============================] - 25s 51us/sample - loss: 0.6409 - acc: 0.5637 - val_loss: 0.7118 - val_acc: 0.5006\n",
      "Epoch 3/100\n",
      "491941/491941 [==============================] - 26s 53us/sample - loss: 0.6047 - acc: 0.5996 - val_loss: 0.7279 - val_acc: 0.4872\n",
      "Epoch 4/100\n",
      "491941/491941 [==============================] - 26s 53us/sample - loss: 0.5741 - acc: 0.6250 - val_loss: 0.8035 - val_acc: 0.4980\n",
      "Epoch 5/100\n",
      "491941/491941 [==============================] - 26s 53us/sample - loss: 0.5508 - acc: 0.6429 - val_loss: 0.8339 - val_acc: 0.4948\n",
      "Epoch 6/100\n",
      "491941/491941 [==============================] - 26s 53us/sample - loss: 0.5327 - acc: 0.6554 - val_loss: 0.8097 - val_acc: 0.4937\n",
      "Epoch 7/100\n",
      "491941/491941 [==============================] - 27s 54us/sample - loss: 0.5200 - acc: 0.6656 - val_loss: 0.9305 - val_acc: 0.4916\n",
      "Epoch 8/100\n",
      "491941/491941 [==============================] - 26s 53us/sample - loss: 0.5235 - acc: 0.6645 - val_loss: 0.9319 - val_acc: 0.4937\n",
      "Epoch 9/100\n",
      "491941/491941 [==============================] - 27s 54us/sample - loss: 0.5225 - acc: 0.6658 - val_loss: 0.7049 - val_acc: 0.4960\n",
      "Epoch 10/100\n",
      "491941/491941 [==============================] - 27s 54us/sample - loss: 0.5556 - acc: 0.6413 - val_loss: 0.8600 - val_acc: 0.4939\n",
      "Epoch 11/100\n",
      "491941/491941 [==============================] - 27s 54us/sample - loss: 0.5619 - acc: 0.6300 - val_loss: 0.7113 - val_acc: 0.4859\n",
      "Epoch 12/100\n",
      "491941/491941 [==============================] - 26s 54us/sample - loss: 0.5889 - acc: 0.6176 - val_loss: 0.9360 - val_acc: 0.4910\n",
      "Epoch 13/100\n",
      "491941/491941 [==============================] - 26s 53us/sample - loss: 0.5114 - acc: 0.6742 - val_loss: 1.1880 - val_acc: 0.4867\n",
      "Epoch 14/100\n",
      "491941/491941 [==============================] - 26s 53us/sample - loss: 0.6275 - acc: 0.5963 - val_loss: 0.8758 - val_acc: 0.4872\n",
      "Epoch 15/100\n",
      "491941/491941 [==============================] - 26s 52us/sample - loss: 0.6336 - acc: 0.5883 - val_loss: 0.8307 - val_acc: 0.4896\n",
      "Epoch 16/100\n",
      "491941/491941 [==============================] - 26s 53us/sample - loss: 0.5515 - acc: 0.6464 - val_loss: 0.7766 - val_acc: 0.4898\n",
      "Epoch 17/100\n",
      "491941/491941 [==============================] - 26s 54us/sample - loss: 0.5666 - acc: 0.6314 - val_loss: 0.8514 - val_acc: 0.4899\n",
      "Epoch 18/100\n",
      "491941/491941 [==============================] - 27s 54us/sample - loss: 0.5080 - acc: 0.6745 - val_loss: 0.9844 - val_acc: 0.4878\n",
      "Epoch 19/100\n",
      "491941/491941 [==============================] - 26s 54us/sample - loss: 0.4973 - acc: 0.6853 - val_loss: 0.9643 - val_acc: 0.4874\n",
      "Epoch 20/100\n",
      "491941/491941 [==============================] - 27s 55us/sample - loss: 0.5299 - acc: 0.6588 - val_loss: 1.1003 - val_acc: 0.4866\n",
      "Epoch 21/100\n",
      "491941/491941 [==============================] - 27s 54us/sample - loss: 0.5280 - acc: 0.6586 - val_loss: 0.9172 - val_acc: 0.4835\n",
      "Epoch 22/100\n",
      "491941/491941 [==============================] - 26s 53us/sample - loss: 0.5476 - acc: 0.6690 - val_loss: 0.8274 - val_acc: 0.4745\n",
      "Epoch 23/100\n",
      "491941/491941 [==============================] - 28s 58us/sample - loss: 0.6547 - acc: 0.5537 - val_loss: 0.7858 - val_acc: 0.4967\n",
      "Epoch 24/100\n",
      "491941/491941 [==============================] - 26s 52us/sample - loss: 0.5399 - acc: 0.6539 - val_loss: 0.9687 - val_acc: 0.4863\n",
      "Epoch 25/100\n",
      "491941/491941 [==============================] - 26s 53us/sample - loss: 0.4878 - acc: 0.6889 - val_loss: 1.0036 - val_acc: 0.4848\n",
      "Epoch 26/100\n",
      "491941/491941 [==============================] - 25s 51us/sample - loss: 0.4719 - acc: 0.6984 - val_loss: 1.1520 - val_acc: 0.4732\n",
      "Epoch 27/100\n",
      "491941/491941 [==============================] - 26s 52us/sample - loss: 0.5385 - acc: 0.6539 - val_loss: 0.9200 - val_acc: 0.4782\n",
      "Epoch 28/100\n",
      "491941/491941 [==============================] - 27s 55us/sample - loss: 0.4643 - acc: 0.7017 - val_loss: 1.0519 - val_acc: 0.4819\n",
      "Epoch 29/100\n",
      "491941/491941 [==============================] - 26s 53us/sample - loss: 0.5010 - acc: 0.6731 - val_loss: 0.8259 - val_acc: 0.4809\n",
      "Epoch 30/100\n",
      "491941/491941 [==============================] - 27s 55us/sample - loss: 0.4619 - acc: 0.7026 - val_loss: 1.1090 - val_acc: 0.4824\n",
      "Epoch 31/100\n",
      "491941/491941 [==============================] - 26s 54us/sample - loss: 0.5048 - acc: 0.6872 - val_loss: 1.2337 - val_acc: 0.4795\n",
      "Epoch 32/100\n",
      "491941/491941 [==============================] - 26s 54us/sample - loss: 0.5711 - acc: 0.6379 - val_loss: 1.2214 - val_acc: 0.4857\n",
      "Epoch 33/100\n",
      "491941/491941 [==============================] - 27s 54us/sample - loss: 0.5451 - acc: 0.6846 - val_loss: 1.3670 - val_acc: 0.4838\n",
      "Epoch 34/100\n",
      "491941/491941 [==============================] - 26s 52us/sample - loss: 0.6946 - acc: 0.5940 - val_loss: 0.8444 - val_acc: 0.4805\n",
      "Epoch 35/100\n",
      "491941/491941 [==============================] - 27s 55us/sample - loss: 0.5412 - acc: 0.6552 - val_loss: 1.1992 - val_acc: 0.4860\n",
      "Epoch 36/100\n",
      "491941/491941 [==============================] - 26s 53us/sample - loss: 0.4797 - acc: 0.6937 - val_loss: 1.1170 - val_acc: 0.4866\n",
      "Epoch 37/100\n",
      "491941/491941 [==============================] - 25s 50us/sample - loss: 0.5997 - acc: 0.5973 - val_loss: 0.8080 - val_acc: 0.4888\n",
      "Epoch 38/100\n",
      "491941/491941 [==============================] - 26s 53us/sample - loss: 0.5396 - acc: 0.6514 - val_loss: 0.8855 - val_acc: 0.4900\n",
      "Epoch 39/100\n",
      "491941/491941 [==============================] - 27s 55us/sample - loss: 0.4537 - acc: 0.7069 - val_loss: 1.0797 - val_acc: 0.4843\n",
      "Epoch 40/100\n",
      "491941/491941 [==============================] - 25s 52us/sample - loss: 0.4858 - acc: 0.6922 - val_loss: 0.8368 - val_acc: 0.4830\n",
      "Epoch 41/100\n",
      "491941/491941 [==============================] - 25s 50us/sample - loss: 0.4666 - acc: 0.7027 - val_loss: 1.2013 - val_acc: 0.4862\n",
      "Epoch 42/100\n",
      "491941/491941 [==============================] - 26s 52us/sample - loss: 0.5684 - acc: 0.6483 - val_loss: 0.9437 - val_acc: 0.4908\n",
      "Epoch 43/100\n",
      "491941/491941 [==============================] - 26s 52us/sample - loss: 0.4954 - acc: 0.6821 - val_loss: 1.1356 - val_acc: 0.4810\n",
      "Epoch 44/100\n",
      "491941/491941 [==============================] - 27s 54us/sample - loss: 0.4581 - acc: 0.7052 - val_loss: 1.0644 - val_acc: 0.4833\n",
      "Epoch 45/100\n",
      "491941/491941 [==============================] - 26s 53us/sample - loss: 0.4230 - acc: 0.7257 - val_loss: 1.0563 - val_acc: 0.4802\n",
      "Epoch 46/100\n",
      "491941/491941 [==============================] - 26s 52us/sample - loss: 4.4296 - acc: 0.5700 - val_loss: 8.0140 - val_acc: 0.4292\n",
      "Epoch 47/100\n",
      "491941/491941 [==============================] - 26s 53us/sample - loss: 8.0156 - acc: 0.4264 - val_loss: 8.0140 - val_acc: 0.4292\n",
      "Epoch 48/100\n",
      "491941/491941 [==============================] - 26s 54us/sample - loss: 8.0156 - acc: 0.4264 - val_loss: 8.0140 - val_acc: 0.4292\n",
      "Epoch 49/100\n",
      "491941/491941 [==============================] - 27s 54us/sample - loss: 8.0156 - acc: 0.4264 - val_loss: 8.0140 - val_acc: 0.4292\n",
      "Epoch 50/100\n",
      "491941/491941 [==============================] - 26s 53us/sample - loss: 8.0156 - acc: 0.4264 - val_loss: 8.0140 - val_acc: 0.4292\n",
      "Epoch 51/100\n",
      "491941/491941 [==============================] - 26s 54us/sample - loss: 8.0156 - acc: 0.4264 - val_loss: 8.0140 - val_acc: 0.4292\n",
      "Epoch 52/100\n",
      "491941/491941 [==============================] - 26s 53us/sample - loss: 8.0156 - acc: 0.4264 - val_loss: 8.0140 - val_acc: 0.4292\n",
      "Epoch 53/100\n",
      "242944/491941 [=============>................] - ETA: 12s - loss: 8.0071 - acc: 0.4268"
     ]
    },
    {
     "ename": "KeyboardInterrupt",
     "evalue": "",
     "output_type": "error",
     "traceback": [
      "\u001b[0;31m---------------------------------------------------------------------------\u001b[0m",
      "\u001b[0;31mKeyboardInterrupt\u001b[0m                         Traceback (most recent call last)",
      "\u001b[0;32m<ipython-input-5-95184bf81b40>\u001b[0m in \u001b[0;36m<module>\u001b[0;34m\u001b[0m\n\u001b[1;32m      1\u001b[0m \u001b[0mchess_cnn\u001b[0m \u001b[0;34m=\u001b[0m \u001b[0mnnets\u001b[0m\u001b[0;34m.\u001b[0m\u001b[0mChessCNN\u001b[0m\u001b[0;34m(\u001b[0m\u001b[0;34m)\u001b[0m\u001b[0;34m\u001b[0m\u001b[0;34m\u001b[0m\u001b[0m\n\u001b[0;32m----> 2\u001b[0;31m \u001b[0mchess_cnn\u001b[0m\u001b[0;34m.\u001b[0m\u001b[0mtrain\u001b[0m\u001b[0;34m(\u001b[0m\u001b[0mX\u001b[0m\u001b[0;34m,\u001b[0m \u001b[0my\u001b[0m\u001b[0;34m)\u001b[0m\u001b[0;34m\u001b[0m\u001b[0;34m\u001b[0m\u001b[0m\n\u001b[0m",
      "\u001b[0;32m~/Documents/repos/silver-mind/silvermind/nnets.py\u001b[0m in \u001b[0;36mtrain\u001b[0;34m(self, X, y)\u001b[0m\n\u001b[1;32m     33\u001b[0m     \u001b[0mmodel\u001b[0m \u001b[0;34m=\u001b[0m \u001b[0mChessCNN\u001b[0m\u001b[0;34m.\u001b[0m\u001b[0m_create_model\u001b[0m\u001b[0;34m(\u001b[0m\u001b[0;34m)\u001b[0m\u001b[0;34m\u001b[0m\u001b[0;34m\u001b[0m\u001b[0m\n\u001b[1;32m     34\u001b[0m     \u001b[0mmodel\u001b[0m\u001b[0;34m.\u001b[0m\u001b[0msummary\u001b[0m\u001b[0;34m(\u001b[0m\u001b[0;34m)\u001b[0m\u001b[0;34m\u001b[0m\u001b[0;34m\u001b[0m\u001b[0m\n\u001b[0;32m---> 35\u001b[0;31m     \u001b[0mhistory\u001b[0m \u001b[0;34m=\u001b[0m \u001b[0mmodel\u001b[0m\u001b[0;34m.\u001b[0m\u001b[0mfit\u001b[0m\u001b[0;34m(\u001b[0m\u001b[0mX\u001b[0m\u001b[0;34m,\u001b[0m \u001b[0my\u001b[0m\u001b[0;34m,\u001b[0m \u001b[0mbatch_size\u001b[0m\u001b[0;34m=\u001b[0m\u001b[0;36m128\u001b[0m\u001b[0;34m,\u001b[0m \u001b[0mepochs\u001b[0m\u001b[0;34m=\u001b[0m\u001b[0;36m100\u001b[0m\u001b[0;34m,\u001b[0m \u001b[0mvalidation_split\u001b[0m\u001b[0;34m=\u001b[0m\u001b[0;36m0.2\u001b[0m\u001b[0;34m,\u001b[0m \u001b[0mshuffle\u001b[0m\u001b[0;34m=\u001b[0m\u001b[0;32mTrue\u001b[0m\u001b[0;34m)\u001b[0m\u001b[0;34m\u001b[0m\u001b[0;34m\u001b[0m\u001b[0m\n\u001b[0m\u001b[1;32m     36\u001b[0m \u001b[0;34m\u001b[0m\u001b[0m\n\u001b[1;32m     37\u001b[0m     \u001b[0mself\u001b[0m\u001b[0;34m.\u001b[0m\u001b[0mmodel\u001b[0m \u001b[0;34m=\u001b[0m \u001b[0mmodel\u001b[0m\u001b[0;34m\u001b[0m\u001b[0;34m\u001b[0m\u001b[0m\n",
      "\u001b[0;32m/usr/lib/python3.9/site-packages/tensorflow/python/keras/engine/training_v1.py\u001b[0m in \u001b[0;36mfit\u001b[0;34m(self, x, y, batch_size, epochs, verbose, callbacks, validation_split, validation_data, shuffle, class_weight, sample_weight, initial_epoch, steps_per_epoch, validation_steps, validation_freq, max_queue_size, workers, use_multiprocessing, **kwargs)\u001b[0m\n\u001b[1;32m    787\u001b[0m \u001b[0;34m\u001b[0m\u001b[0m\n\u001b[1;32m    788\u001b[0m     \u001b[0mfunc\u001b[0m \u001b[0;34m=\u001b[0m \u001b[0mself\u001b[0m\u001b[0;34m.\u001b[0m\u001b[0m_select_training_loop\u001b[0m\u001b[0;34m(\u001b[0m\u001b[0mx\u001b[0m\u001b[0;34m)\u001b[0m\u001b[0;34m\u001b[0m\u001b[0;34m\u001b[0m\u001b[0m\n\u001b[0;32m--> 789\u001b[0;31m     return func.fit(\n\u001b[0m\u001b[1;32m    790\u001b[0m         \u001b[0mself\u001b[0m\u001b[0;34m,\u001b[0m\u001b[0;34m\u001b[0m\u001b[0;34m\u001b[0m\u001b[0m\n\u001b[1;32m    791\u001b[0m         \u001b[0mx\u001b[0m\u001b[0;34m=\u001b[0m\u001b[0mx\u001b[0m\u001b[0;34m,\u001b[0m\u001b[0;34m\u001b[0m\u001b[0;34m\u001b[0m\u001b[0m\n",
      "\u001b[0;32m/usr/lib/python3.9/site-packages/tensorflow/python/keras/engine/training_arrays_v1.py\u001b[0m in \u001b[0;36mfit\u001b[0;34m(self, model, x, y, batch_size, epochs, verbose, callbacks, validation_split, validation_data, shuffle, class_weight, sample_weight, initial_epoch, steps_per_epoch, validation_steps, validation_freq, **kwargs)\u001b[0m\n\u001b[1;32m    645\u001b[0m       \u001b[0mval_x\u001b[0m\u001b[0;34m,\u001b[0m \u001b[0mval_y\u001b[0m\u001b[0;34m,\u001b[0m \u001b[0mval_sample_weights\u001b[0m \u001b[0;34m=\u001b[0m \u001b[0;32mNone\u001b[0m\u001b[0;34m,\u001b[0m \u001b[0;32mNone\u001b[0m\u001b[0;34m,\u001b[0m \u001b[0;32mNone\u001b[0m\u001b[0;34m\u001b[0m\u001b[0;34m\u001b[0m\u001b[0m\n\u001b[1;32m    646\u001b[0m \u001b[0;34m\u001b[0m\u001b[0m\n\u001b[0;32m--> 647\u001b[0;31m     return fit_loop(\n\u001b[0m\u001b[1;32m    648\u001b[0m         \u001b[0mmodel\u001b[0m\u001b[0;34m,\u001b[0m\u001b[0;34m\u001b[0m\u001b[0;34m\u001b[0m\u001b[0m\n\u001b[1;32m    649\u001b[0m         \u001b[0minputs\u001b[0m\u001b[0;34m=\u001b[0m\u001b[0mx\u001b[0m\u001b[0;34m,\u001b[0m\u001b[0;34m\u001b[0m\u001b[0;34m\u001b[0m\u001b[0m\n",
      "\u001b[0;32m/usr/lib/python3.9/site-packages/tensorflow/python/keras/engine/training_arrays_v1.py\u001b[0m in \u001b[0;36mmodel_iteration\u001b[0;34m(model, inputs, targets, sample_weights, batch_size, epochs, verbose, callbacks, val_inputs, val_targets, val_sample_weights, shuffle, initial_epoch, steps_per_epoch, validation_steps, validation_freq, mode, validation_in_fit, prepared_feed_values_from_dataset, steps_name, **kwargs)\u001b[0m\n\u001b[1;32m    382\u001b[0m \u001b[0;34m\u001b[0m\u001b[0m\n\u001b[1;32m    383\u001b[0m         \u001b[0;31m# Get outputs.\u001b[0m\u001b[0;34m\u001b[0m\u001b[0;34m\u001b[0m\u001b[0;34m\u001b[0m\u001b[0m\n\u001b[0;32m--> 384\u001b[0;31m         \u001b[0mbatch_outs\u001b[0m \u001b[0;34m=\u001b[0m \u001b[0mf\u001b[0m\u001b[0;34m(\u001b[0m\u001b[0mins_batch\u001b[0m\u001b[0;34m)\u001b[0m\u001b[0;34m\u001b[0m\u001b[0;34m\u001b[0m\u001b[0m\n\u001b[0m\u001b[1;32m    385\u001b[0m         \u001b[0;32mif\u001b[0m \u001b[0;32mnot\u001b[0m \u001b[0misinstance\u001b[0m\u001b[0;34m(\u001b[0m\u001b[0mbatch_outs\u001b[0m\u001b[0;34m,\u001b[0m \u001b[0mlist\u001b[0m\u001b[0;34m)\u001b[0m\u001b[0;34m:\u001b[0m\u001b[0;34m\u001b[0m\u001b[0;34m\u001b[0m\u001b[0m\n\u001b[1;32m    386\u001b[0m           \u001b[0mbatch_outs\u001b[0m \u001b[0;34m=\u001b[0m \u001b[0;34m[\u001b[0m\u001b[0mbatch_outs\u001b[0m\u001b[0;34m]\u001b[0m\u001b[0;34m\u001b[0m\u001b[0;34m\u001b[0m\u001b[0m\n",
      "\u001b[0;32m/usr/lib/python3.9/site-packages/tensorflow/python/keras/backend.py\u001b[0m in \u001b[0;36m__call__\u001b[0;34m(self, inputs)\u001b[0m\n\u001b[1;32m   3954\u001b[0m       \u001b[0mself\u001b[0m\u001b[0;34m.\u001b[0m\u001b[0m_make_callable\u001b[0m\u001b[0;34m(\u001b[0m\u001b[0mfeed_arrays\u001b[0m\u001b[0;34m,\u001b[0m \u001b[0mfeed_symbols\u001b[0m\u001b[0;34m,\u001b[0m \u001b[0msymbol_vals\u001b[0m\u001b[0;34m,\u001b[0m \u001b[0msession\u001b[0m\u001b[0;34m)\u001b[0m\u001b[0;34m\u001b[0m\u001b[0;34m\u001b[0m\u001b[0m\n\u001b[1;32m   3955\u001b[0m \u001b[0;34m\u001b[0m\u001b[0m\n\u001b[0;32m-> 3956\u001b[0;31m     fetched = self._callable_fn(*array_vals,\n\u001b[0m\u001b[1;32m   3957\u001b[0m                                 run_metadata=self.run_metadata)\n\u001b[1;32m   3958\u001b[0m     \u001b[0mself\u001b[0m\u001b[0;34m.\u001b[0m\u001b[0m_call_fetch_callbacks\u001b[0m\u001b[0;34m(\u001b[0m\u001b[0mfetched\u001b[0m\u001b[0;34m[\u001b[0m\u001b[0;34m-\u001b[0m\u001b[0mlen\u001b[0m\u001b[0;34m(\u001b[0m\u001b[0mself\u001b[0m\u001b[0;34m.\u001b[0m\u001b[0m_fetches\u001b[0m\u001b[0;34m)\u001b[0m\u001b[0;34m:\u001b[0m\u001b[0;34m]\u001b[0m\u001b[0;34m)\u001b[0m\u001b[0;34m\u001b[0m\u001b[0;34m\u001b[0m\u001b[0m\n",
      "\u001b[0;32m/usr/lib/python3.9/site-packages/tensorflow/python/client/session.py\u001b[0m in \u001b[0;36m__call__\u001b[0;34m(self, *args, **kwargs)\u001b[0m\n\u001b[1;32m   1478\u001b[0m       \u001b[0;32mtry\u001b[0m\u001b[0;34m:\u001b[0m\u001b[0;34m\u001b[0m\u001b[0;34m\u001b[0m\u001b[0m\n\u001b[1;32m   1479\u001b[0m         \u001b[0mrun_metadata_ptr\u001b[0m \u001b[0;34m=\u001b[0m \u001b[0mtf_session\u001b[0m\u001b[0;34m.\u001b[0m\u001b[0mTF_NewBuffer\u001b[0m\u001b[0;34m(\u001b[0m\u001b[0;34m)\u001b[0m \u001b[0;32mif\u001b[0m \u001b[0mrun_metadata\u001b[0m \u001b[0;32melse\u001b[0m \u001b[0;32mNone\u001b[0m\u001b[0;34m\u001b[0m\u001b[0;34m\u001b[0m\u001b[0m\n\u001b[0;32m-> 1480\u001b[0;31m         ret = tf_session.TF_SessionRunCallable(self._session._session,\n\u001b[0m\u001b[1;32m   1481\u001b[0m                                                \u001b[0mself\u001b[0m\u001b[0;34m.\u001b[0m\u001b[0m_handle\u001b[0m\u001b[0;34m,\u001b[0m \u001b[0margs\u001b[0m\u001b[0;34m,\u001b[0m\u001b[0;34m\u001b[0m\u001b[0;34m\u001b[0m\u001b[0m\n\u001b[1;32m   1482\u001b[0m                                                run_metadata_ptr)\n",
      "\u001b[0;31mKeyboardInterrupt\u001b[0m: "
     ]
    }
   ],
   "source": [
    "chess_cnn = nnets.ChessCNN()\n",
    "chess_cnn.train(X, y)"
   ]
  },
  {
   "cell_type": "code",
   "execution_count": null,
   "metadata": {},
   "outputs": [],
   "source": []
  }
 ],
 "metadata": {
  "kernelspec": {
   "display_name": "Python 3",
   "language": "python",
   "name": "python3"
  },
  "language_info": {
   "codemirror_mode": {
    "name": "ipython",
    "version": 3
   },
   "file_extension": ".py",
   "mimetype": "text/x-python",
   "name": "python",
   "nbconvert_exporter": "python",
   "pygments_lexer": "ipython3",
   "version": "3.9.1"
  }
 },
 "nbformat": 4,
 "nbformat_minor": 4
}
