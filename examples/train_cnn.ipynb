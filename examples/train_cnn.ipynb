{
 "cells": [
  {
   "cell_type": "code",
   "execution_count": 3,
   "metadata": {},
   "outputs": [
    {
     "name": "stderr",
     "output_type": "stream",
     "text": [
      "/usr/lib/python3.9/site-packages/tensorflow/python/client/session.py:1761: UserWarning: An interactive session is already active. This can cause out-of-memory errors in some cases. You must explicitly call `InteractiveSession.close()` to release resources held by the other session(s).\n",
      "  warnings.warn('An interactive session is already active. This can '\n"
     ]
    }
   ],
   "source": [
    "from tensorflow.compat.v1 import ConfigProto\n",
    "from tensorflow.compat.v1 import InteractiveSession\n",
    "import tensorflow as tf\n",
    "\n",
    "config = ConfigProto()\n",
    "config.gpu_options.allow_growth = True\n",
    "session = InteractiveSession(config=config)\n",
    "\n",
    "tf.compat.v1.disable_eager_execution()"
   ]
  },
  {
   "cell_type": "code",
   "execution_count": 4,
   "metadata": {},
   "outputs": [],
   "source": [
    "import sys\n",
    "import numpy as np\n",
    "\n",
    "sys.path.append(\"..\")\n",
    "\n",
    "from silvermind import nnets\n",
    "from silvermind import states"
   ]
  },
  {
   "cell_type": "code",
   "execution_count": 5,
   "metadata": {},
   "outputs": [
    {
     "name": "stdout",
     "output_type": "stream",
     "text": [
      "(549211, 5, 8, 8) (549211,)\n"
     ]
    }
   ],
   "source": [
    "npz = np.load(\"../dataset/tiny_game_data.npz\")\n",
    "X = npz[\"arr_0\"]\n",
    "y = npz[\"arr_1\"]\n",
    "\n",
    "print(X.shape, y.shape)"
   ]
  },
  {
   "cell_type": "code",
   "execution_count": 7,
   "metadata": {},
   "outputs": [
    {
     "name": "stdout",
     "output_type": "stream",
     "text": [
      "Model: \"sequential\"\n",
      "_________________________________________________________________\n",
      "Layer (type)                 Output Shape              Param #   \n",
      "=================================================================\n",
      "conv2d (Conv2D)              (None, 16, 8, 8)          736       \n",
      "_________________________________________________________________\n",
      "conv2d_1 (Conv2D)            (None, 16, 8, 8)          2320      \n",
      "_________________________________________________________________\n",
      "conv2d_2 (Conv2D)            (None, 16, 4, 4)          2320      \n",
      "_________________________________________________________________\n",
      "conv2d_3 (Conv2D)            (None, 32, 4, 4)          4640      \n",
      "_________________________________________________________________\n",
      "conv2d_4 (Conv2D)            (None, 32, 4, 4)          9248      \n",
      "_________________________________________________________________\n",
      "conv2d_5 (Conv2D)            (None, 32, 2, 2)          9248      \n",
      "_________________________________________________________________\n",
      "conv2d_6 (Conv2D)            (None, 64, 2, 2)          8256      \n",
      "_________________________________________________________________\n",
      "conv2d_7 (Conv2D)            (None, 64, 2, 2)          16448     \n",
      "_________________________________________________________________\n",
      "conv2d_8 (Conv2D)            (None, 64, 1, 1)          16448     \n",
      "_________________________________________________________________\n",
      "conv2d_9 (Conv2D)            (None, 128, 1, 1)         8320      \n",
      "_________________________________________________________________\n",
      "conv2d_10 (Conv2D)           (None, 128, 1, 1)         16512     \n",
      "_________________________________________________________________\n",
      "conv2d_11 (Conv2D)           (None, 128, 1, 1)         16512     \n",
      "_________________________________________________________________\n",
      "flatten (Flatten)            (None, 128)               0         \n",
      "_________________________________________________________________\n",
      "dense (Dense)                (None, 128)               16512     \n",
      "_________________________________________________________________\n",
      "dense_1 (Dense)              (None, 1)                 129       \n",
      "=================================================================\n",
      "Total params: 127,649\n",
      "Trainable params: 127,649\n",
      "Non-trainable params: 0\n",
      "_________________________________________________________________\n",
      "Train on 439368 samples, validate on 109843 samples\n",
      "Epoch 1/20\n",
      "439368/439368 [==============================] - ETA: 0s - loss: 0.6753 - acc: 0.5648"
     ]
    },
    {
     "name": "stderr",
     "output_type": "stream",
     "text": [
      "/usr/lib/python3.9/site-packages/tensorflow/python/keras/engine/training.py:2325: UserWarning: `Model.state_updates` will be removed in a future version. This property should not be used in TensorFlow 2.0, as `updates` are applied automatically.\n",
      "  warnings.warn('`Model.state_updates` will be removed in a future version. '\n"
     ]
    },
    {
     "name": "stdout",
     "output_type": "stream",
     "text": [
      "439368/439368 [==============================] - 21s 47us/sample - loss: 0.6753 - acc: 0.5648 - val_loss: 0.7307 - val_acc: 0.5497\n",
      "Epoch 2/20\n",
      "439368/439368 [==============================] - 17s 39us/sample - loss: 0.6443 - acc: 0.6123 - val_loss: 0.6899 - val_acc: 0.5617\n",
      "Epoch 3/20\n",
      "439368/439368 [==============================] - 17s 39us/sample - loss: 0.6127 - acc: 0.6436 - val_loss: 0.7055 - val_acc: 0.5649\n",
      "Epoch 4/20\n",
      "439368/439368 [==============================] - 17s 39us/sample - loss: 0.5803 - acc: 0.6713 - val_loss: 0.7628 - val_acc: 0.5549\n",
      "Epoch 5/20\n",
      "439368/439368 [==============================] - 17s 39us/sample - loss: 0.5513 - acc: 0.6934 - val_loss: 0.8187 - val_acc: 0.5358\n",
      "Epoch 6/20\n",
      "439368/439368 [==============================] - 17s 39us/sample - loss: 0.5254 - acc: 0.7115 - val_loss: 0.8379 - val_acc: 0.5476\n",
      "Epoch 7/20\n",
      "439368/439368 [==============================] - 17s 38us/sample - loss: 0.5020 - acc: 0.7280 - val_loss: 0.8867 - val_acc: 0.5542\n",
      "Epoch 8/20\n",
      "439368/439368 [==============================] - 17s 39us/sample - loss: 0.4814 - acc: 0.7406 - val_loss: 0.8931 - val_acc: 0.5465\n",
      "Epoch 9/20\n",
      "439368/439368 [==============================] - 17s 39us/sample - loss: 0.4656 - acc: 0.7517 - val_loss: 0.9078 - val_acc: 0.5462\n",
      "Epoch 10/20\n",
      "439368/439368 [==============================] - 17s 39us/sample - loss: 0.4502 - acc: 0.7612 - val_loss: 0.9777 - val_acc: 0.5459\n",
      "Epoch 11/20\n",
      "439368/439368 [==============================] - 17s 39us/sample - loss: 0.4372 - acc: 0.7681 - val_loss: 1.0377 - val_acc: 0.5468\n",
      "Epoch 12/20\n",
      "439368/439368 [==============================] - 17s 39us/sample - loss: 0.4259 - acc: 0.7745 - val_loss: 1.0072 - val_acc: 0.5483\n",
      "Epoch 13/20\n",
      "439368/439368 [==============================] - 17s 39us/sample - loss: 0.4146 - acc: 0.7807 - val_loss: 0.9982 - val_acc: 0.5423\n",
      "Epoch 14/20\n",
      "439368/439368 [==============================] - 17s 39us/sample - loss: 0.4059 - acc: 0.7857 - val_loss: 1.0349 - val_acc: 0.5429\n",
      "Epoch 15/20\n",
      "439368/439368 [==============================] - 17s 39us/sample - loss: 0.3963 - acc: 0.7921 - val_loss: 1.0901 - val_acc: 0.5532\n",
      "Epoch 16/20\n",
      "439368/439368 [==============================] - 17s 39us/sample - loss: 0.3884 - acc: 0.7962 - val_loss: 1.1977 - val_acc: 0.5404\n",
      "Epoch 17/20\n",
      "439368/439368 [==============================] - 17s 39us/sample - loss: 0.3814 - acc: 0.8002 - val_loss: 1.1173 - val_acc: 0.5505\n",
      "Epoch 18/20\n",
      "439368/439368 [==============================] - 17s 39us/sample - loss: 0.3744 - acc: 0.8040 - val_loss: 1.2429 - val_acc: 0.5420\n",
      "Epoch 19/20\n",
      "439368/439368 [==============================] - 17s 39us/sample - loss: 0.3692 - acc: 0.8064 - val_loss: 1.1845 - val_acc: 0.5471\n",
      "Epoch 20/20\n",
      "439368/439368 [==============================] - 17s 39us/sample - loss: 0.3639 - acc: 0.8094 - val_loss: 1.1583 - val_acc: 0.5457\n"
     ]
    },
    {
     "data": {
      "text/plain": [
       "<tensorflow.python.keras.callbacks.History at 0x7f1510085d60>"
      ]
     },
     "execution_count": 7,
     "metadata": {},
     "output_type": "execute_result"
    }
   ],
   "source": [
    "chess_cnn = nnets.TwitchChess()\n",
    "chess_cnn.train(X, y)"
   ]
  },
  {
   "cell_type": "code",
   "execution_count": 8,
   "metadata": {},
   "outputs": [
    {
     "name": "stdout",
     "output_type": "stream",
     "text": [
      "INFO:tensorflow:Assets written to: ../models/tiny_tc.tf/assets\n"
     ]
    },
    {
     "name": "stderr",
     "output_type": "stream",
     "text": [
      "INFO:tensorflow:Assets written to: ../models/tiny_tc.tf/assets\n"
     ]
    }
   ],
   "source": [
    "chess_cnn.save(\"../models/tiny_tc.tf\")"
   ]
  },
  {
   "cell_type": "code",
   "execution_count": null,
   "metadata": {},
   "outputs": [],
   "source": []
  }
 ],
 "metadata": {
  "kernelspec": {
   "display_name": "Python 3",
   "language": "python",
   "name": "python3"
  },
  "language_info": {
   "codemirror_mode": {
    "name": "ipython",
    "version": 3
   },
   "file_extension": ".py",
   "mimetype": "text/x-python",
   "name": "python",
   "nbconvert_exporter": "python",
   "pygments_lexer": "ipython3",
   "version": "3.9.1"
  }
 },
 "nbformat": 4,
 "nbformat_minor": 4
}
