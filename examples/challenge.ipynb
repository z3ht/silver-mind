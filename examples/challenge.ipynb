{
 "cells": [
  {
   "cell_type": "code",
   "execution_count": 1,
   "metadata": {},
   "outputs": [],
   "source": [
    "from tensorflow.compat.v1 import ConfigProto\n",
    "from tensorflow.compat.v1 import InteractiveSession\n",
    "import tensorflow as tf\n",
    "\n",
    "config = ConfigProto()\n",
    "config.gpu_options.allow_growth = True\n",
    "session = InteractiveSession(config=config)\n",
    "\n",
    "tf.compat.v1.disable_eager_execution()"
   ]
  },
  {
   "cell_type": "code",
   "execution_count": 2,
   "metadata": {},
   "outputs": [],
   "source": [
    "import sys\n",
    "import chess\n",
    "from IPython.display import clear_output\n",
    "\n",
    "sys.path.append(\"..\")\n",
    "\n",
    "from silvermind import states, nnets"
   ]
  },
  {
   "cell_type": "code",
   "execution_count": 4,
   "metadata": {},
   "outputs": [],
   "source": [
    "valuator = nnets.TwitchChess()\n",
    "valuator.load(\"../models/tiny_tc.tf\")"
   ]
  },
  {
   "cell_type": "code",
   "execution_count": null,
   "metadata": {},
   "outputs": [
    {
     "name": "stdout",
     "output_type": "stream",
     "text": [
      "r . b q k . . r\n",
      "p p p . . p p p\n",
      ". . n . . n . .\n",
      ". . b p . . . .\n",
      ". . P . p . P .\n",
      ". . . P . . . P\n",
      "P P . K P P . .\n",
      "R N B Q . B N R\n",
      "e1d2\n",
      "\n"
     ]
    }
   ],
   "source": [
    "def computer_move(cur_board):\n",
    "    ideal_move = 1 if cur_board.turn == chess.WHITE else -1\n",
    "    best_move_score = -1\n",
    "    best_move = None\n",
    "    for move in cur_board.legal_moves:\n",
    "        cur_board.push(move)\n",
    "        pos_move_score = abs(ideal_move - states.BoardState(cur_board).value(valuator))\n",
    "        if best_move_score < pos_move_score:\n",
    "            best_move_score = pos_move_score\n",
    "            best_move = move\n",
    "        cur_board.pop()\n",
    "    return best_move\n",
    "\n",
    "def request_move():\n",
    "    try:\n",
    "        result = chess.Move.from_uci(input(\"Please input your move: \"))\n",
    "    except Exception:\n",
    "        result = None\n",
    "    return result\n",
    "\n",
    "def player_move(cur_board):\n",
    "    clear_output()\n",
    "    print(cur_board)\n",
    "    print(cur_board.peek())\n",
    "    print()\n",
    "    \n",
    "    player_move = None\n",
    "    while (player_move := request_move()) not in cur_board.legal_moves:\n",
    "        print(\"Not a valid move.\")\n",
    "        print(f\"Valid moves are: {str([str(move) for move in cur_board.legal_moves])}\")\n",
    "        print()\n",
    "    return player_move\n",
    "\n",
    "board = chess.Board()\n",
    "while not board.is_game_over():\n",
    "    if board.turn == chess.WHITE:\n",
    "        best_move = computer_move(board)\n",
    "    else:\n",
    "        best_move = player_move(board)\n",
    "    board.push(best_move)\n",
    "\n",
    "    \n",
    "    "
   ]
  },
  {
   "cell_type": "code",
   "execution_count": null,
   "metadata": {},
   "outputs": [],
   "source": []
  }
 ],
 "metadata": {
  "kernelspec": {
   "display_name": "Python 3",
   "language": "python",
   "name": "python3"
  },
  "language_info": {
   "codemirror_mode": {
    "name": "ipython",
    "version": 3
   },
   "file_extension": ".py",
   "mimetype": "text/x-python",
   "name": "python",
   "nbconvert_exporter": "python",
   "pygments_lexer": "ipython3",
   "version": "3.9.1"
  }
 },
 "nbformat": 4,
 "nbformat_minor": 1
}
